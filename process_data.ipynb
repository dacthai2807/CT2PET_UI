{
 "cells": [
  {
   "cell_type": "code",
   "execution_count": 2,
   "metadata": {},
   "outputs": [],
   "source": [
    "import os\n",
    "import shutil\n",
    "\n",
    "def combine_folders(source1, source2, destination):\n",
    "    folders = ['A', 'B', 'C']\n",
    "    file_source_mapping = []\n",
    "\n",
    "    # Ensure destination exists\n",
    "    if not os.path.exists(destination):\n",
    "        os.makedirs(destination)\n",
    "\n",
    "    for folder in folders:\n",
    "        source1_folder = os.path.join(source1, folder)\n",
    "        source2_folder = os.path.join(source2, folder)\n",
    "        destination_folder = os.path.join(destination, folder)\n",
    "\n",
    "        if not os.path.exists(destination_folder):\n",
    "            os.makedirs(destination_folder)\n",
    "\n",
    "        # Copy files from source1\n",
    "        if os.path.exists(source1_folder):\n",
    "            for file_name in os.listdir(source1_folder):\n",
    "                source_file = os.path.join(source1_folder, file_name)\n",
    "                destination_file = os.path.join(destination_folder, file_name)\n",
    "                shutil.copy(source_file, destination_file)\n",
    "                file_source_mapping.append((destination_file, 'BT'))\n",
    "\n",
    "        # Copy files from source2\n",
    "        if os.path.exists(source2_folder):\n",
    "            for file_name in os.listdir(source2_folder):\n",
    "                source_file = os.path.join(source2_folder, file_name)\n",
    "                destination_file = os.path.join(destination_folder, file_name)\n",
    "                shutil.copy(source_file, destination_file)\n",
    "                file_source_mapping.append((destination_file, 'co_benh'))\n",
    "\n",
    "    # Write file source mapping to log file\n",
    "    log_file_path = os.path.join(destination, 'file_source_log.txt')\n",
    "    with open(log_file_path, 'w') as log_file:\n",
    "        for file_path, source in file_source_mapping:\n",
    "            log_file.write(f\"{file_path}: {source}\\n\")\n",
    "\n",
    "# Example usage\n",
    "combine_folders('/mnt/disk1/PET_CT/BT', '/mnt/disk1/PET_CT/co_benh', '/mnt/disk1/PET_CT/combined')\n"
   ]
  }
 ],
 "metadata": {
  "kernelspec": {
   "display_name": "PET-CT",
   "language": "python",
   "name": "python3"
  },
  "language_info": {
   "codemirror_mode": {
    "name": "ipython",
    "version": 3
   },
   "file_extension": ".py",
   "mimetype": "text/x-python",
   "name": "python",
   "nbconvert_exporter": "python",
   "pygments_lexer": "ipython3",
   "version": "3.9.19"
  }
 },
 "nbformat": 4,
 "nbformat_minor": 2
}
